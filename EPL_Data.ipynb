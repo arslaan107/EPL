{
 "cells": [
  {
   "cell_type": "code",
   "execution_count": 2,
   "id": "3405d5e8",
   "metadata": {},
   "outputs": [],
   "source": [
    "import pandas as pd\n",
    "import numpy as np\n",
    "import seaborn as sns\n",
    "import matplotlib.pyplot as plt\n",
    "import plotly.express as px"
   ]
  },
  {
   "cell_type": "code",
   "execution_count": 3,
   "id": "c499983e",
   "metadata": {},
   "outputs": [
    {
     "data": {
      "text/html": [
       "<div>\n",
       "<style scoped>\n",
       "    .dataframe tbody tr th:only-of-type {\n",
       "        vertical-align: middle;\n",
       "    }\n",
       "\n",
       "    .dataframe tbody tr th {\n",
       "        vertical-align: top;\n",
       "    }\n",
       "\n",
       "    .dataframe thead th {\n",
       "        text-align: right;\n",
       "    }\n",
       "</style>\n",
       "<table border=\"1\" class=\"dataframe\">\n",
       "  <thead>\n",
       "    <tr style=\"text-align: right;\">\n",
       "      <th></th>\n",
       "      <th>date</th>\n",
       "      <th>time</th>\n",
       "      <th>comp</th>\n",
       "      <th>round</th>\n",
       "      <th>day</th>\n",
       "      <th>venue</th>\n",
       "      <th>result</th>\n",
       "      <th>gf</th>\n",
       "      <th>ga</th>\n",
       "      <th>opponent</th>\n",
       "      <th>...</th>\n",
       "      <th>match report</th>\n",
       "      <th>notes</th>\n",
       "      <th>sh</th>\n",
       "      <th>sot</th>\n",
       "      <th>dist</th>\n",
       "      <th>fk</th>\n",
       "      <th>pk</th>\n",
       "      <th>pkatt</th>\n",
       "      <th>season</th>\n",
       "      <th>team</th>\n",
       "    </tr>\n",
       "  </thead>\n",
       "  <tbody>\n",
       "    <tr>\n",
       "      <th>0</th>\n",
       "      <td>2022-08-05</td>\n",
       "      <td>20:00</td>\n",
       "      <td>Premier League</td>\n",
       "      <td>Matchweek 1</td>\n",
       "      <td>Fri</td>\n",
       "      <td>Away</td>\n",
       "      <td>W</td>\n",
       "      <td>2.0</td>\n",
       "      <td>0.0</td>\n",
       "      <td>Crystal Palace</td>\n",
       "      <td>...</td>\n",
       "      <td>Match Report</td>\n",
       "      <td>NaN</td>\n",
       "      <td>10.0</td>\n",
       "      <td>2.0</td>\n",
       "      <td>14.6</td>\n",
       "      <td>1.0</td>\n",
       "      <td>0.0</td>\n",
       "      <td>0.0</td>\n",
       "      <td>2022</td>\n",
       "      <td>Arsenal</td>\n",
       "    </tr>\n",
       "    <tr>\n",
       "      <th>1</th>\n",
       "      <td>2022-08-13</td>\n",
       "      <td>15:00</td>\n",
       "      <td>Premier League</td>\n",
       "      <td>Matchweek 2</td>\n",
       "      <td>Sat</td>\n",
       "      <td>Home</td>\n",
       "      <td>W</td>\n",
       "      <td>4.0</td>\n",
       "      <td>2.0</td>\n",
       "      <td>Leicester City</td>\n",
       "      <td>...</td>\n",
       "      <td>Match Report</td>\n",
       "      <td>NaN</td>\n",
       "      <td>19.0</td>\n",
       "      <td>7.0</td>\n",
       "      <td>13.0</td>\n",
       "      <td>0.0</td>\n",
       "      <td>0.0</td>\n",
       "      <td>0.0</td>\n",
       "      <td>2022</td>\n",
       "      <td>Arsenal</td>\n",
       "    </tr>\n",
       "    <tr>\n",
       "      <th>2</th>\n",
       "      <td>2022-08-20</td>\n",
       "      <td>17:30</td>\n",
       "      <td>Premier League</td>\n",
       "      <td>Matchweek 3</td>\n",
       "      <td>Sat</td>\n",
       "      <td>Away</td>\n",
       "      <td>W</td>\n",
       "      <td>3.0</td>\n",
       "      <td>0.0</td>\n",
       "      <td>Bournemouth</td>\n",
       "      <td>...</td>\n",
       "      <td>Match Report</td>\n",
       "      <td>NaN</td>\n",
       "      <td>14.0</td>\n",
       "      <td>6.0</td>\n",
       "      <td>14.8</td>\n",
       "      <td>0.0</td>\n",
       "      <td>0.0</td>\n",
       "      <td>0.0</td>\n",
       "      <td>2022</td>\n",
       "      <td>Arsenal</td>\n",
       "    </tr>\n",
       "    <tr>\n",
       "      <th>3</th>\n",
       "      <td>2022-08-27</td>\n",
       "      <td>17:30</td>\n",
       "      <td>Premier League</td>\n",
       "      <td>Matchweek 4</td>\n",
       "      <td>Sat</td>\n",
       "      <td>Home</td>\n",
       "      <td>W</td>\n",
       "      <td>2.0</td>\n",
       "      <td>1.0</td>\n",
       "      <td>Fulham</td>\n",
       "      <td>...</td>\n",
       "      <td>Match Report</td>\n",
       "      <td>NaN</td>\n",
       "      <td>22.0</td>\n",
       "      <td>8.0</td>\n",
       "      <td>15.5</td>\n",
       "      <td>1.0</td>\n",
       "      <td>0.0</td>\n",
       "      <td>0.0</td>\n",
       "      <td>2022</td>\n",
       "      <td>Arsenal</td>\n",
       "    </tr>\n",
       "    <tr>\n",
       "      <th>4</th>\n",
       "      <td>2022-08-31</td>\n",
       "      <td>19:30</td>\n",
       "      <td>Premier League</td>\n",
       "      <td>Matchweek 5</td>\n",
       "      <td>Wed</td>\n",
       "      <td>Home</td>\n",
       "      <td>W</td>\n",
       "      <td>2.0</td>\n",
       "      <td>1.0</td>\n",
       "      <td>Aston Villa</td>\n",
       "      <td>...</td>\n",
       "      <td>Match Report</td>\n",
       "      <td>NaN</td>\n",
       "      <td>22.0</td>\n",
       "      <td>8.0</td>\n",
       "      <td>16.3</td>\n",
       "      <td>1.0</td>\n",
       "      <td>0.0</td>\n",
       "      <td>0.0</td>\n",
       "      <td>2022</td>\n",
       "      <td>Arsenal</td>\n",
       "    </tr>\n",
       "  </tbody>\n",
       "</table>\n",
       "<p>5 rows × 27 columns</p>\n",
       "</div>"
      ],
      "text/plain": [
       "         date   time            comp        round  day venue result   gf   ga  \\\n",
       "0  2022-08-05  20:00  Premier League  Matchweek 1  Fri  Away      W  2.0  0.0   \n",
       "1  2022-08-13  15:00  Premier League  Matchweek 2  Sat  Home      W  4.0  2.0   \n",
       "2  2022-08-20  17:30  Premier League  Matchweek 3  Sat  Away      W  3.0  0.0   \n",
       "3  2022-08-27  17:30  Premier League  Matchweek 4  Sat  Home      W  2.0  1.0   \n",
       "4  2022-08-31  19:30  Premier League  Matchweek 5  Wed  Home      W  2.0  1.0   \n",
       "\n",
       "         opponent  ...  match report  notes    sh  sot  dist   fk   pk pkatt  \\\n",
       "0  Crystal Palace  ...  Match Report    NaN  10.0  2.0  14.6  1.0  0.0   0.0   \n",
       "1  Leicester City  ...  Match Report    NaN  19.0  7.0  13.0  0.0  0.0   0.0   \n",
       "2     Bournemouth  ...  Match Report    NaN  14.0  6.0  14.8  0.0  0.0   0.0   \n",
       "3          Fulham  ...  Match Report    NaN  22.0  8.0  15.5  1.0  0.0   0.0   \n",
       "4     Aston Villa  ...  Match Report    NaN  22.0  8.0  16.3  1.0  0.0   0.0   \n",
       "\n",
       "   season     team  \n",
       "0    2022  Arsenal  \n",
       "1    2022  Arsenal  \n",
       "2    2022  Arsenal  \n",
       "3    2022  Arsenal  \n",
       "4    2022  Arsenal  \n",
       "\n",
       "[5 rows x 27 columns]"
      ]
     },
     "execution_count": 3,
     "metadata": {},
     "output_type": "execute_result"
    }
   ],
   "source": [
    "matches = pd.read_csv('matches.csv', index_col=0)\n",
    "matches.head()"
   ]
  },
  {
   "cell_type": "code",
   "execution_count": 4,
   "id": "db16eca8",
   "metadata": {},
   "outputs": [
    {
     "data": {
      "text/plain": [
       "'2023-02-26'"
      ]
     },
     "execution_count": 4,
     "metadata": {},
     "output_type": "execute_result"
    }
   ],
   "source": [
    "max(matches.date)"
   ]
  },
  {
   "cell_type": "code",
   "execution_count": 5,
   "id": "118658da",
   "metadata": {},
   "outputs": [
    {
     "data": {
      "text/plain": [
       "'2017-08-11'"
      ]
     },
     "execution_count": 5,
     "metadata": {},
     "output_type": "execute_result"
    }
   ],
   "source": [
    "min(matches.date)"
   ]
  },
  {
   "cell_type": "code",
   "execution_count": 6,
   "id": "ecebde9b",
   "metadata": {},
   "outputs": [
    {
     "data": {
      "text/plain": [
       "(4278, 27)"
      ]
     },
     "execution_count": 6,
     "metadata": {},
     "output_type": "execute_result"
    }
   ],
   "source": [
    "matches.shape"
   ]
  },
  {
   "cell_type": "code",
   "execution_count": 7,
   "id": "9a0e2882",
   "metadata": {},
   "outputs": [
    {
     "data": {
      "text/plain": [
       "3800"
      ]
     },
     "execution_count": 7,
     "metadata": {},
     "output_type": "execute_result"
    }
   ],
   "source": [
    "20*38*5"
   ]
  },
  {
   "cell_type": "code",
   "execution_count": 8,
   "id": "ec50386e",
   "metadata": {},
   "outputs": [
    {
     "data": {
      "text/plain": [
       "Manchester City             215\n",
       "Tottenham Hotspur           215\n",
       "Arsenal                     214\n",
       "Manchester United           214\n",
       "Southampton                 214\n",
       "Chelsea                     214\n",
       "Everton                     214\n",
       "Crystal Palace              214\n",
       "West Ham United             214\n",
       "Leicester City              214\n",
       "Newcastle United            213\n",
       "Liverpool                   213\n",
       "Brighton and Hove Albion    212\n",
       "Burnley                     190\n",
       "Wolverhampton Wanderers     176\n",
       "Watford                     152\n",
       "Aston Villa                 138\n",
       "Bournemouth                 138\n",
       "Fulham                      101\n",
       "Leeds United                100\n",
       "Norwich City                 76\n",
       "West Bromwich Albion         76\n",
       "Sheffield United             76\n",
       "Huddersfield Town            76\n",
       "Brentford                    61\n",
       "Cardiff City                 38\n",
       "Swansea City                 38\n",
       "Stoke City                   38\n",
       "Nottingham Forest            24\n",
       "Name: team, dtype: int64"
      ]
     },
     "execution_count": 8,
     "metadata": {},
     "output_type": "execute_result"
    }
   ],
   "source": [
    "matches[\"team\"].value_counts()"
   ]
  },
  {
   "cell_type": "code",
   "execution_count": 9,
   "id": "66ac975d",
   "metadata": {},
   "outputs": [
    {
     "data": {
      "text/plain": [
       "Matchweek 1     120\n",
       "Matchweek 15    120\n",
       "Matchweek 24    120\n",
       "Matchweek 12    120\n",
       "Matchweek 23    120\n",
       "Matchweek 2     120\n",
       "Matchweek 21    120\n",
       "Matchweek 20    120\n",
       "Matchweek 19    120\n",
       "Matchweek 18    120\n",
       "Matchweek 17    120\n",
       "Matchweek 16    120\n",
       "Matchweek 22    120\n",
       "Matchweek 14    120\n",
       "Matchweek 6     120\n",
       "Matchweek 13    120\n",
       "Matchweek 4     120\n",
       "Matchweek 5     120\n",
       "Matchweek 3     120\n",
       "Matchweek 9     120\n",
       "Matchweek 10    120\n",
       "Matchweek 11    120\n",
       "Matchweek 8     116\n",
       "Matchweek 25    116\n",
       "Matchweek 7     106\n",
       "Matchweek 30    100\n",
       "Matchweek 37    100\n",
       "Matchweek 33    100\n",
       "Matchweek 36    100\n",
       "Matchweek 35    100\n",
       "Matchweek 34    100\n",
       "Matchweek 26    100\n",
       "Matchweek 32    100\n",
       "Matchweek 31    100\n",
       "Matchweek 29    100\n",
       "Matchweek 28    100\n",
       "Matchweek 27    100\n",
       "Matchweek 38    100\n",
       "Name: round, dtype: int64"
      ]
     },
     "execution_count": 9,
     "metadata": {},
     "output_type": "execute_result"
    }
   ],
   "source": [
    "matches[\"round\"].value_counts()"
   ]
  },
  {
   "cell_type": "code",
   "execution_count": 11,
   "id": "42774b50",
   "metadata": {},
   "outputs": [
    {
     "data": {
      "text/plain": [
       "2021    760\n",
       "2020    760\n",
       "2019    760\n",
       "2018    760\n",
       "2017    760\n",
       "2022    478\n",
       "Name: season, dtype: int64"
      ]
     },
     "execution_count": 11,
     "metadata": {},
     "output_type": "execute_result"
    }
   ],
   "source": [
    "matches.season.value_counts()"
   ]
  },
  {
   "cell_type": "code",
   "execution_count": 13,
   "id": "a6185bbf",
   "metadata": {},
   "outputs": [
    {
     "data": {
      "text/plain": [
       "date             object\n",
       "time             object\n",
       "comp             object\n",
       "round            object\n",
       "day              object\n",
       "venue            object\n",
       "result           object\n",
       "gf              float64\n",
       "ga              float64\n",
       "opponent         object\n",
       "xg              float64\n",
       "xga             float64\n",
       "poss            float64\n",
       "attendance      float64\n",
       "captain          object\n",
       "formation        object\n",
       "referee          object\n",
       "match report     object\n",
       "notes           float64\n",
       "sh              float64\n",
       "sot             float64\n",
       "dist            float64\n",
       "fk              float64\n",
       "pk              float64\n",
       "pkatt           float64\n",
       "season            int64\n",
       "team             object\n",
       "dtype: object"
      ]
     },
     "execution_count": 13,
     "metadata": {},
     "output_type": "execute_result"
    }
   ],
   "source": [
    "matches.dtypes"
   ]
  },
  {
   "cell_type": "code",
   "execution_count": 14,
   "id": "7ab4434c",
   "metadata": {},
   "outputs": [],
   "source": [
    "matches['date'] = pd.to_datetime(matches['date'])"
   ]
  },
  {
   "cell_type": "code",
   "execution_count": 15,
   "id": "0bcc7c8d",
   "metadata": {},
   "outputs": [
    {
     "data": {
      "text/plain": [
       "date            datetime64[ns]\n",
       "time                    object\n",
       "comp                    object\n",
       "round                   object\n",
       "day                     object\n",
       "venue                   object\n",
       "result                  object\n",
       "gf                     float64\n",
       "ga                     float64\n",
       "opponent                object\n",
       "xg                     float64\n",
       "xga                    float64\n",
       "poss                   float64\n",
       "attendance             float64\n",
       "captain                 object\n",
       "formation               object\n",
       "referee                 object\n",
       "match report            object\n",
       "notes                  float64\n",
       "sh                     float64\n",
       "sot                    float64\n",
       "dist                   float64\n",
       "fk                     float64\n",
       "pk                     float64\n",
       "pkatt                  float64\n",
       "season                   int64\n",
       "team                    object\n",
       "dtype: object"
      ]
     },
     "execution_count": 15,
     "metadata": {},
     "output_type": "execute_result"
    }
   ],
   "source": [
    "matches.dtypes"
   ]
  },
  {
   "cell_type": "code",
   "execution_count": 16,
   "id": "0617dbed",
   "metadata": {},
   "outputs": [],
   "source": [
    "df = matches.copy()"
   ]
  },
  {
   "cell_type": "code",
   "execution_count": 17,
   "id": "410b3175",
   "metadata": {},
   "outputs": [
    {
     "data": {
      "text/plain": [
       "0     Away\n",
       "1     Home\n",
       "2     Away\n",
       "3     Home\n",
       "4     Home\n",
       "      ... \n",
       "38    Away\n",
       "39    Home\n",
       "40    Away\n",
       "41    Home\n",
       "42    Away\n",
       "Name: venue, Length: 4278, dtype: object"
      ]
     },
     "execution_count": 17,
     "metadata": {},
     "output_type": "execute_result"
    }
   ],
   "source": [
    "df['venue']"
   ]
  },
  {
   "cell_type": "code",
   "execution_count": 19,
   "id": "2cc2405f",
   "metadata": {},
   "outputs": [],
   "source": [
    "df['venue_code'] = df['venue'].astype(\"category\").cat.codes"
   ]
  },
  {
   "cell_type": "code",
   "execution_count": 20,
   "id": "7734ba61",
   "metadata": {},
   "outputs": [],
   "source": [
    "df[\"opp_code\"] = df[\"opponent\"].astype(\"category\").cat.codes"
   ]
  },
  {
   "cell_type": "code",
   "execution_count": 21,
   "id": "9a1470bb",
   "metadata": {},
   "outputs": [],
   "source": [
    "df[\"target\"] = (matches[\"result\"] == \"W\").astype(\"int\")"
   ]
  },
  {
   "cell_type": "code",
   "execution_count": 22,
   "id": "caf84715",
   "metadata": {},
   "outputs": [],
   "source": [
    "df[\"hour\"] = matches[\"time\"].str.replace(\":.+\", \"\", regex=True).astype(\"int\")"
   ]
  },
  {
   "cell_type": "code",
   "execution_count": 23,
   "id": "ef6f1e8f",
   "metadata": {},
   "outputs": [],
   "source": [
    "df[\"day_code\"] = df[\"date\"].dt.dayofweek"
   ]
  },
  {
   "cell_type": "code",
   "execution_count": null,
   "id": "0cfab251",
   "metadata": {},
   "outputs": [],
   "source": []
  }
 ],
 "metadata": {
  "kernelspec": {
   "display_name": "Python 3 (ipykernel)",
   "language": "python",
   "name": "python3"
  },
  "language_info": {
   "codemirror_mode": {
    "name": "ipython",
    "version": 3
   },
   "file_extension": ".py",
   "mimetype": "text/x-python",
   "name": "python",
   "nbconvert_exporter": "python",
   "pygments_lexer": "ipython3",
   "version": "3.10.8"
  }
 },
 "nbformat": 4,
 "nbformat_minor": 5
}
